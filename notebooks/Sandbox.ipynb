{
 "cells": [
  {
   "cell_type": "code",
   "execution_count": 1,
   "id": "bb201cff-e2bd-4d59-81f8-7b721bce8b73",
   "metadata": {
    "tags": []
   },
   "outputs": [],
   "source": [
    "import polars as pl"
   ]
  },
  {
   "cell_type": "code",
   "execution_count": 80,
   "id": "e6fbc8a7-867f-4e70-968d-660a5cfb4b63",
   "metadata": {},
   "outputs": [],
   "source": [
    "userDF = pl.read_json('users-extracted.json')\n",
    "userEventDF = pl.read_json('user_events-extracted.json')\n",
    "userTransDF = pl.read_json('user_transactions-extracted.json')\n",
    "fbDF = pl.read_json('facebook_ads-extracted.json')\n",
    "igDF = pl.read_json('instagram_ads-extracted.json')"
   ]
  },
  {
   "cell_type": "code",
   "execution_count": 81,
   "id": "58344eb0-66be-416a-8425-01d4d0356a6e",
   "metadata": {},
   "outputs": [],
   "source": [
    "ctx = pl.SQLContext().register_many({'users':userDF, 'user_events':userEventDF, 'user_transactions':userTransDF, 'fb':fbDF, 'ig':igDF})"
   ]
  },
  {
   "cell_type": "code",
   "execution_count": 89,
   "id": "f3236ed6-bdf1-420d-88c3-32ee8010ee6d",
   "metadata": {
    "tags": []
   },
   "outputs": [],
   "source": [
    "dim_user = ctx.execute('''\n",
    "SELECT\n",
    "id AS user_id,\n",
    "client_id,\n",
    "first_name || ' ' || last_name AS full_name,\n",
    "email,\n",
    "dob,\n",
    "gender,\n",
    "register_date,\n",
    "CASE\n",
    "    WHEN fb.id IS NOT NULL THEN 'Facebook'\n",
    "    WHEN ig.id IS NOT NULL THEN 'Instagram'\n",
    "    ELSE 'Unknown'\n",
    "END AS ads_source,\n",
    "FROM users u\n",
    "LEFT JOIN fb on fb.id = u.client_id\n",
    "LEFT JOIN ig on ig.id = u.client_id\n",
    "''', eager=True)\n",
    "\n",
    "dim_user.write_json('dim_user.json', row_oriented=True)"
   ]
  },
  {
   "cell_type": "code",
   "execution_count": 94,
   "id": "d88755aa-837f-42f4-848f-e84f4667b2dd",
   "metadata": {
    "tags": []
   },
   "outputs": [],
   "source": [
    "dim_ads = ctx.execute('''\n",
    "SELECT\n",
    "'Facebook' AS ads_source, id, ads_id, device_type, device_id, timestamp\n",
    "FROM fb\n",
    "UNION ALL\n",
    "SELECT\n",
    "'Instagram' AS ads_source, id, ads_id, device_type, device_id, timestamp\n",
    "FROM ig\n",
    "''', eager=True)\n",
    "dim_ads.write_json('dim_ads.json', row_oriented=True)"
   ]
  },
  {
   "cell_type": "code",
   "execution_count": 162,
   "id": "05405050-21bc-448e-9dea-ef3d506bff56",
   "metadata": {
    "tags": []
   },
   "outputs": [],
   "source": [
    "fact_user_performance = ctx.execute('''\n",
    "SELECT \n",
    "    id AS user_id,\n",
    "    MAX(user_events.timestamp) AS last_activity,\n",
    "    COUNT(DISTINCT user_events.id) AS total_events,\n",
    "    COUNT(DISTINCT CASE WHEN user_events.event_type = 'login' THEN user_events.id ELSE NULL END) AS total_logins,\n",
    "    COUNT(DISTINCT CASE WHEN user_events.event_type = 'search' THEN user_events.id ELSE NULL END) AS total_searches,\n",
    "    COUNT(DISTINCT CASE WHEN user_events.event_type = 'purchase' THEN user_events.id ELSE NULL END) AS total_purchases,\n",
    "    SUM(CASE WHEN user_transactions.transaction_type = 'purchase' THEN user_transactions.amount ELSE 0 END) AS total_purchase_amount\n",
    "    FROM users u\n",
    "LEFT JOIN user_events on user_events.user_id = u.id\n",
    "LEFT JOIN user_transactions on user_transactions.user_id = u.id\n",
    "WHERE user_events.timestamp IS NOT NULL\n",
    "GROUP BY id\n",
    "''', eager=True)\n",
    "fact_user_performance.write_json('fact_user_performance.json', row_oriented=True)"
   ]
  },
  {
   "cell_type": "code",
   "execution_count": 155,
   "id": "2408c439-2305-4a7a-b97c-c339b6a569f8",
   "metadata": {
    "tags": []
   },
   "outputs": [
    {
     "ename": "ComputeError",
     "evalue": "sql parser error: Expected end of statement, found: ON at Line: 6, Column 17",
     "output_type": "error",
     "traceback": [
      "\u001b[0;31m---------------------------------------------------------------------------\u001b[0m",
      "\u001b[0;31mComputeError\u001b[0m                              Traceback (most recent call last)",
      "Cell \u001b[0;32mIn[155], line 1\u001b[0m\n\u001b[0;32m----> 1\u001b[0m fact_ads_performance \u001b[38;5;241m=\u001b[39m \u001b[43mctx\u001b[49m\u001b[38;5;241;43m.\u001b[39;49m\u001b[43mexecute\u001b[49m\u001b[43m(\u001b[49m\u001b[38;5;124;43m'''\u001b[39;49m\n\u001b[1;32m      2\u001b[0m \u001b[38;5;124;43mSELECT\u001b[39;49m\n\u001b[1;32m      3\u001b[0m \u001b[38;5;124;43m    COUNT(DISTINCT CASE WHEN u.id IS NOT NULL THEN a.id END) AS total_converted,\u001b[39;49m\n\u001b[1;32m      4\u001b[0m \u001b[38;5;124;43m    SUM(CASE WHEN t.transaction_type = \u001b[39;49m\u001b[38;5;124;43m'\u001b[39;49m\u001b[38;5;124;43mpurchase\u001b[39;49m\u001b[38;5;124;43m'\u001b[39;49m\u001b[38;5;124;43m THEN 1 ELSE 0 END) AS total_purchases,\u001b[39;49m\n\u001b[1;32m      5\u001b[0m \u001b[38;5;124;43m    SUM(CASE WHEN t.transaction_type = \u001b[39;49m\u001b[38;5;124;43m'\u001b[39;49m\u001b[38;5;124;43mpurchase\u001b[39;49m\u001b[38;5;124;43m'\u001b[39;49m\u001b[38;5;124;43m THEN t.amount ELSE 0 END) AS total_purchase_amount\u001b[39;49m\n\u001b[1;32m      6\u001b[0m \u001b[38;5;124;43mfrom users AS u ON a.id = u.client_id\u001b[39;49m\n\u001b[1;32m      7\u001b[0m \u001b[38;5;124;43mLEFT JOIN user_events AS e ON a.ads_id = e.event_data->>\u001b[39;49m\u001b[38;5;124;43m'\u001b[39;49m\u001b[38;5;124;43mads_id\u001b[39;49m\u001b[38;5;124;43m'\u001b[39;49m\n\u001b[1;32m      8\u001b[0m \u001b[38;5;124;43mLEFT JOIN user_transactions AS t ON u.id = t.user_id AND t.transaction_type = \u001b[39;49m\u001b[38;5;124;43m'\u001b[39;49m\u001b[38;5;124;43mpurchase\u001b[39;49m\u001b[38;5;124;43m'\u001b[39;49m\n\u001b[1;32m      9\u001b[0m \u001b[38;5;124;43mGROUP BY a.ads_id\u001b[39;49m\n\u001b[1;32m     10\u001b[0m \u001b[38;5;124;43m'''\u001b[39;49m\u001b[43m,\u001b[49m\u001b[43m \u001b[49m\u001b[43meager\u001b[49m\u001b[38;5;241;43m=\u001b[39;49m\u001b[38;5;28;43;01mTrue\u001b[39;49;00m\u001b[43m)\u001b[49m\n",
      "File \u001b[0;32m/opt/conda/lib/python3.10/site-packages/polars/sql/context.py:274\u001b[0m, in \u001b[0;36mSQLContext.execute\u001b[0;34m(self, query, eager)\u001b[0m\n\u001b[1;32m    196\u001b[0m \u001b[38;5;28;01mdef\u001b[39;00m \u001b[38;5;21mexecute\u001b[39m(\u001b[38;5;28mself\u001b[39m, query: \u001b[38;5;28mstr\u001b[39m, eager: \u001b[38;5;28mbool\u001b[39m \u001b[38;5;241m|\u001b[39m \u001b[38;5;28;01mNone\u001b[39;00m \u001b[38;5;241m=\u001b[39m \u001b[38;5;28;01mNone\u001b[39;00m) \u001b[38;5;241m-\u001b[39m\u001b[38;5;241m>\u001b[39m LazyFrame \u001b[38;5;241m|\u001b[39m DataFrame:\n\u001b[1;32m    197\u001b[0m \u001b[38;5;250m    \u001b[39m\u001b[38;5;124;03m\"\"\"\u001b[39;00m\n\u001b[1;32m    198\u001b[0m \u001b[38;5;124;03m    Parse the given SQL query and execute it against the registered frame data.\u001b[39;00m\n\u001b[1;32m    199\u001b[0m \n\u001b[0;32m   (...)\u001b[0m\n\u001b[1;32m    272\u001b[0m \u001b[38;5;124;03m    └────────┴─────────────┴─────────┘\u001b[39;00m\n\u001b[1;32m    273\u001b[0m \u001b[38;5;124;03m    \"\"\"\u001b[39;00m\n\u001b[0;32m--> 274\u001b[0m     res \u001b[38;5;241m=\u001b[39m wrap_ldf(\u001b[38;5;28;43mself\u001b[39;49m\u001b[38;5;241;43m.\u001b[39;49m\u001b[43m_ctxt\u001b[49m\u001b[38;5;241;43m.\u001b[39;49m\u001b[43mexecute\u001b[49m\u001b[43m(\u001b[49m\u001b[43mquery\u001b[49m\u001b[43m)\u001b[49m)\n\u001b[1;32m    275\u001b[0m     \u001b[38;5;28;01mreturn\u001b[39;00m res\u001b[38;5;241m.\u001b[39mcollect() \u001b[38;5;28;01mif\u001b[39;00m (eager \u001b[38;5;129;01mor\u001b[39;00m \u001b[38;5;28mself\u001b[39m\u001b[38;5;241m.\u001b[39m_eager_execution) \u001b[38;5;28;01melse\u001b[39;00m res\n",
      "\u001b[0;31mComputeError\u001b[0m: sql parser error: Expected end of statement, found: ON at Line: 6, Column 17"
     ]
    }
   ],
   "source": [
    "fact_ads_performance = ctx.execute('''\n",
    "SELECT\n",
    "    a.ads_id,\n",
    "    COUNT(DISTINCT a.id) AS total_clicks,\n",
    "    COUNT(DISTINCT CASE WHEN a.ads_source = 'Facebook' THEN a.id END) AS total_facebook_clicks,\n",
    "    COUNT(DISTINCT CASE WHEN a.ads_source = 'Instagram' THEN a.id END) AS total_instagram_clicks,\n",
    "    COUNT(DISTINCT CASE WHEN u.id IS NOT NULL THEN a.id END) AS total_converted,\n",
    "    SUM(CASE WHEN t.transaction_type = 'purchase' THEN 1 ELSE 0 END) AS total_purchases,\n",
    "    SUM(CASE WHEN t.transaction_type = 'purchase' THEN t.amount ELSE 0 END) AS total_purchase_amount\n",
    "FROM (\n",
    "    SELECT id, ads_id, 'Facebook' AS ads_source FROM fb\n",
    "    UNION ALL\n",
    "    SELECT id, ads_id, 'Instagram' AS ads_source FROM ig\n",
    ") AS a\n",
    "LEFT JOIN dibimbing.user.users AS u ON a.id = u.client_id\n",
    "LEFT JOIN dibimbing.event.\"User Event\" AS e ON a.ads_id = e.event_data->>'ads_id'\n",
    "LEFT JOIN dibimbing.user.user_transactions AS t ON u.id = t.user_id AND t.transaction_type = 'purchase'\n",
    "GROUP BY a.ads_id\n",
    "''', eager=True)"
   ]
  },
  {
   "cell_type": "raw",
   "id": "080b4f03-50ed-46d6-817f-2486018b5368",
   "metadata": {
    "tags": []
   },
   "source": [
    "import polars as pl\n",
    "\n",
    "users = pl.read_csv('users.csv')\n",
    "userEvents = pl.read_csv('user_events.csv')\n",
    "userTransactions = pl.read_csv('user_transactions.csv')\n",
    "\n",
    "users.write_parquet('users.parquet')\n",
    "userEvents.write_parquet('user_events.parquet')\n",
    "userTransactions.write_parquet('user_transactions.parquet')"
   ]
  },
  {
   "cell_type": "code",
   "execution_count": 9,
   "id": "0725e993-2972-425b-abda-0f0ea6429ac9",
   "metadata": {
    "tags": []
   },
   "outputs": [],
   "source": [
    "import polars as pl\n",
    "\n",
    "user = pl.read_parquet('user_transactions.parquet')\n",
    "user.write_csv('a')"
   ]
  },
  {
   "cell_type": "code",
   "execution_count": 21,
   "id": "67a4997c-790b-4fb8-8ab9-336c6ceefb5a",
   "metadata": {
    "tags": []
   },
   "outputs": [
    {
     "data": {
      "text/plain": [
       "{'id': '194af1cf-c553-4e0a-a50a-5daaf63b3aba'}"
      ]
     },
     "execution_count": 21,
     "metadata": {},
     "output_type": "execute_result"
    }
   ],
   "source": [
    "import requests\n",
    "\n",
    "response = requests.post('http://host.docker.internal:3000/api/session',\n",
    "                         json={'username': 'muhammadmuhidin222@gmail.com',\n",
    "                               'password': 'Metabase94'})\n",
    "session_id = response.json()['id']\n",
    "headers = {'X-Metabase-Session': session_id}\n",
    "response.json()\n"
   ]
  },
  {
   "cell_type": "code",
   "execution_count": 19,
   "id": "049af98c-d005-4121-a757-b622abee0d83",
   "metadata": {
    "tags": []
   },
   "outputs": [
    {
     "ename": "SyntaxError",
     "evalue": "invalid syntax (928794399.py, line 1)",
     "output_type": "error",
     "traceback": [
      "\u001b[0;36m  Cell \u001b[0;32mIn[19], line 1\u001b[0;36m\u001b[0m\n\u001b[0;31m    json =\u001b[0m\n\u001b[0m          ^\u001b[0m\n\u001b[0;31mSyntaxError\u001b[0m\u001b[0;31m:\u001b[0m invalid syntax\n"
     ]
    }
   ],
   "source": [
    "json =\n",
    "{\n",
    "  \"name\": \"dibimbing-final-project\",\n",
    "  \"cards\": [\n",
    "    {\n",
    "      \"id\": 132,\n",
    "      \"collection_id\": 34,\n",
    "      \"description\": null,\n",
    "      \"display\": \"bar\",\n",
    "      \"name\": \"How Age is distributed\",\n",
    "      \"include_csv\": false,\n",
    "      \"include_xls\": false,\n",
    "      \"dashboard_card_id\": 195,\n",
    "      \"dashboard_id\": 13,\n",
    "      \"parameter_mappings\": []\n",
    "    },\n",
    "    {\n",
    "      \"id\": 87,\n",
    "      \"collection_id\": 25,\n",
    "      \"description\": null,\n",
    "      \"display\": \"bar\",\n",
    "      \"name\": \"How the Gender is distributed\",\n",
    "      \"include_csv\": false,\n",
    "      \"include_xls\": false,\n",
    "      \"dashboard_card_id\": 139,\n",
    "      \"dashboard_id\": 13,\n",
    "      \"parameter_mappings\": []\n",
    "    },\n",
    "    {\n",
    "      \"id\": 89,\n",
    "      \"collection_id\": 27,\n",
    "      \"description\": null,\n",
    "      \"display\": \"row\",\n",
    "      \"name\": \"Per Device Type\",\n",
    "      \"include_csv\": false,\n",
    "      \"include_xls\": false,\n",
    "      \"dashboard_card_id\": 138,\n",
    "      \"dashboard_id\": 13,\n",
    "      \"parameter_mappings\": []\n",
    "    },\n",
    "    {\n",
    "      \"id\": 130,\n",
    "      \"collection_id\": 34,\n",
    "      \"description\": null,\n",
    "      \"display\": \"line\",\n",
    "      \"name\": \"New Dim User per month\",\n",
    "      \"include_csv\": false,\n",
    "      \"include_xls\": false,\n",
    "      \"dashboard_card_id\": 196,\n",
    "      \"dashboard_id\": 13,\n",
    "      \"parameter_mappings\": []\n",
    "    },\n",
    "    {\n",
    "      \"id\": 95,\n",
    "      \"collection_id\": 28,\n",
    "      \"description\": null,\n",
    "      \"display\": \"table\",\n",
    "      \"name\": \"Ads ID by Device Type\",\n",
    "      \"include_csv\": false,\n",
    "      \"include_xls\": false,\n",
    "      \"dashboard_card_id\": 141,\n",
    "      \"dashboard_id\": 13,\n",
    "      \"parameter_mappings\": []\n",
    "    },\n",
    "    {\n",
    "      \"id\": 94,\n",
    "      \"collection_id\": 28,\n",
    "      \"description\": null,\n",
    "      \"display\": \"bar\",\n",
    "      \"name\": \"How the Ads ID is distributed\",\n",
    "      \"include_csv\": false,\n",
    "      \"include_xls\": false,\n",
    "      \"dashboard_card_id\": 140,\n",
    "      \"dashboard_id\": 13,\n",
    "      \"parameter_mappings\": []\n",
    "    },\n",
    "    {\n",
    "      \"id\": 82,\n",
    "      \"collection_id\": 20,\n",
    "      \"description\": null,\n",
    "      \"display\": \"row\",\n",
    "      \"name\": \"Facebook Ads per Device Type\",\n",
    "      \"include_csv\": false,\n",
    "      \"include_xls\": false,\n",
    "      \"dashboard_card_id\": 142,\n",
    "      \"dashboard_id\": 13,\n",
    "      \"parameter_mappings\": []\n",
    "    },\n",
    "    {\n",
    "      \"id\": 83,\n",
    "      \"collection_id\": 20,\n",
    "      \"description\": null,\n",
    "      \"display\": \"row\",\n",
    "      \"name\": \"Facebook Ads per Ads ID\",\n",
    "      \"include_csv\": false,\n",
    "      \"include_xls\": false,\n",
    "      \"dashboard_card_id\": 143,\n",
    "      \"dashboard_id\": 13,\n",
    "      \"parameter_mappings\": []\n",
    "    },\n",
    "    {\n",
    "      \"id\": 102,\n",
    "      \"collection_id\": 32,\n",
    "      \"description\": null,\n",
    "      \"display\": \"line\",\n",
    "      \"name\": \"Fact Daily Event Performance by Timestamp\",\n",
    "      \"include_csv\": false,\n",
    "      \"include_xls\": false,\n",
    "      \"dashboard_card_id\": 180,\n",
    "      \"dashboard_id\": 13,\n",
    "      \"parameter_mappings\": []\n",
    "    },\n",
    "    {\n",
    "      \"id\": 103,\n",
    "      \"collection_id\": 32,\n",
    "      \"description\": null,\n",
    "      \"display\": \"line\",\n",
    "      \"name\": \"Total Purchase Amount over time\",\n",
    "      \"include_csv\": false,\n",
    "      \"include_xls\": false,\n",
    "      \"dashboard_card_id\": 181,\n",
    "      \"dashboard_id\": 13,\n",
    "      \"parameter_mappings\": []\n",
    "    },\n",
    "    {\n",
    "      \"id\": 106,\n",
    "      \"collection_id\": 32,\n",
    "      \"description\": null,\n",
    "      \"display\": \"bar\",\n",
    "      \"name\": \"Timestamp by quarter of the year\",\n",
    "      \"include_csv\": false,\n",
    "      \"include_xls\": false,\n",
    "      \"dashboard_card_id\": 182,\n",
    "      \"dashboard_id\": 13,\n",
    "      \"parameter_mappings\": []\n",
    "    }\n",
    "  ],\n",
    "  \"channels\": [\n",
    "    {\n",
    "      \"channel_type\": \"email\",\n",
    "      \"enabled\": true,\n",
    "      \"recipients\": [\n",
    "        {\n",
    "          \"email\": \"muhammadmuhidin222@gmail.com\",\n",
    "          \"first_name\": \"Muhammad\",\n",
    "          \"locale\": null,\n",
    "          \"last_login\": \"2023-10-22T15:44:19.316944Z\",\n",
    "          \"is_active\": true,\n",
    "          \"is_qbnewb\": false,\n",
    "          \"updated_at\": \"2023-10-23T06:03:42.459196\",\n",
    "          \"is_superuser\": true,\n",
    "          \"login_attributes\": null,\n",
    "          \"id\": 1,\n",
    "          \"last_name\": \"Muhidin\",\n",
    "          \"date_joined\": \"2023-10-14T03:20:40.521886Z\",\n",
    "          \"sso_source\": null,\n",
    "          \"common_name\": \"Muhammad Muhidin\"\n",
    "        }\n",
    "      ],\n",
    "      \"details\": {},\n",
    "      \"schedule_type\": \"hourly\",\n",
    "      \"schedule_day\": \"mon\",\n",
    "      \"schedule_hour\": 8,\n",
    "      \"schedule_frame\": \"first\"\n",
    "    }\n",
    "  ],\n",
    "  \"skip_if_empty\": false,\n",
    "  \"collection_id\": null,\n",
    "  \"parameters\": [],\n",
    "  \"dashboard_id\": 13\n",
    "}\n",
    "\n",
    "\n",
    "response = requests.post(url='http://host.docker.internal:3000/api/pulse/test', headers=headers, json=json)"
   ]
  },
  {
   "cell_type": "code",
   "execution_count": null,
   "id": "f3cd2749-a804-4d77-9773-545ddf960357",
   "metadata": {},
   "outputs": [],
   "source": []
  }
 ],
 "metadata": {
  "kernelspec": {
   "display_name": "Python 3 (ipykernel)",
   "language": "python",
   "name": "python3"
  },
  "language_info": {
   "codemirror_mode": {
    "name": "ipython",
    "version": 3
   },
   "file_extension": ".py",
   "mimetype": "text/x-python",
   "name": "python",
   "nbconvert_exporter": "python",
   "pygments_lexer": "ipython3",
   "version": "3.10.10"
  }
 },
 "nbformat": 4,
 "nbformat_minor": 5
}
